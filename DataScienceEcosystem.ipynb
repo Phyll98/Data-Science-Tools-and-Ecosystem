{
 "cells": [
  {
   "cell_type": "markdown",
   "id": "8bb0671b",
   "metadata": {},
   "source": [
    "# Data Science Tools and Ecosystem"
   ]
  },
  {
   "cell_type": "markdown",
   "id": "4fa8ea8a",
   "metadata": {},
   "source": [
    "In this notebook, Data Science Tools and Ecosystem are summarized."
   ]
  },
  {
   "cell_type": "markdown",
   "id": "b795f1b9",
   "metadata": {},
   "source": [
    "#### Objectives:"
   ]
  },
  {
   "cell_type": "raw",
   "id": "f77c3c23",
   "metadata": {},
   "source": [
    "-List popular languages for Data Science\n",
    "-List commonly used libraries\n",
    "-List Data Science tools"
   ]
  },
  {
   "cell_type": "raw",
   "id": "82c9a057",
   "metadata": {},
   "source": [
    "Some of the popular languages that Data Scientists use are:\n",
    "    1. Python\n",
    "    2. Julia\n",
    "    3. R\n",
    "    4. Scala\n",
    "    5. SQL"
   ]
  },
  {
   "cell_type": "raw",
   "id": "23b1c4cc",
   "metadata": {},
   "source": [
    "Some of the commonly used libraries used by Data Scientists include:\n",
    "    1. Numpy\n",
    "    2. Matplotlib\n",
    "    3. Pandas\n",
    "    4. Seaborn\n",
    "    5. Keras\n",
    "    6. Sickit-Learn"
   ]
  },
  {
   "cell_type": "raw",
   "id": "670ddac3",
   "metadata": {},
   "source": [
    "Data Science Tools\n",
    "Jupyter Notebook\n",
    "Rstudio\n",
    "Visual Studio Code"
   ]
  },
  {
   "cell_type": "markdown",
   "id": "0d7255a8",
   "metadata": {},
   "source": [
    "### Below are a few examples of evaluating arithmetic expressions in Python"
   ]
  },
  {
   "cell_type": "code",
   "execution_count": 1,
   "id": "00a0cf14",
   "metadata": {},
   "outputs": [
    {
     "data": {
      "text/plain": [
       "17"
      ]
     },
     "execution_count": 1,
     "metadata": {},
     "output_type": "execute_result"
    }
   ],
   "source": [
    "(3*4)+5 #This a simple arithmetic expression to mutiply then add integers"
   ]
  },
  {
   "cell_type": "code",
   "execution_count": 1,
   "id": "8ddbd3a9",
   "metadata": {
    "scrolled": true
   },
   "outputs": [
    {
     "data": {
      "text/plain": [
       "3.3333333333333335"
      ]
     },
     "execution_count": 1,
     "metadata": {},
     "output_type": "execute_result"
    }
   ],
   "source": [
    "200/60 #This will convert 200 minutes to hours by diving by 60"
   ]
  },
  {
   "cell_type": "markdown",
   "id": "73cd3df5",
   "metadata": {},
   "source": [
    "## Author\n",
    "Phyllian Kipchirchir"
   ]
  },
  {
   "cell_type": "code",
   "execution_count": null,
   "id": "9277bc3b",
   "metadata": {},
   "outputs": [],
   "source": []
  }
 ],
 "metadata": {
  "kernelspec": {
   "display_name": "Python 3 (ipykernel)",
   "language": "python",
   "name": "python3"
  },
  "language_info": {
   "codemirror_mode": {
    "name": "ipython",
    "version": 3
   },
   "file_extension": ".py",
   "mimetype": "text/x-python",
   "name": "python",
   "nbconvert_exporter": "python",
   "pygments_lexer": "ipython3",
   "version": "3.11.5"
  }
 },
 "nbformat": 4,
 "nbformat_minor": 5
}
