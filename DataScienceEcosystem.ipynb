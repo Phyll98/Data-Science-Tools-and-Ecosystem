{
 "cells": [
  {
   "cell_type": "markdown",
   "id": "8bb0671b",
   "metadata": {},
   "source": [
    "# Data Science Tools and Ecosystem"
   ]
  },
  {
   "cell_type": "markdown",
   "id": "4fa8ea8a",
   "metadata": {},
   "source": [
    "In this notebook, Data Science Tools and Ecosystem are summarized."
   ]
  },
  {
   "cell_type": "markdown",
   "id": "b795f1b9",
   "metadata": {},
   "source": [
    "#### Objectives:"
   ]
  },
  {
   "cell_type": "markdown",
   "id": "77c66c5b",
   "metadata": {},
   "source": [
    "-List popular languages for Data Science"
   ]
  },
  {
   "cell_type": "markdown",
   "id": "49839f0c",
   "metadata": {},
   "source": [
    "-List commonly used libraries"
   ]
  },
  {
   "cell_type": "markdown",
   "id": "ae3a8f20",
   "metadata": {},
   "source": [
    "-List Data Science tools"
   ]
  },
  {
   "cell_type": "markdown",
   "id": "7b12445b",
   "metadata": {},
   "source": [
    "Some of the popular languages that Data Scientists use are:"
   ]
  },
  {
   "cell_type": "markdown",
   "id": "5ef0e0cb",
   "metadata": {},
   "source": [
    "1. Python"
   ]
  },
  {
   "cell_type": "markdown",
   "id": "d5162bd3",
   "metadata": {},
   "source": [
    "2. Julia"
   ]
  },
  {
   "cell_type": "markdown",
   "id": "007a5ca1",
   "metadata": {},
   "source": [
    "3. R"
   ]
  },
  {
   "cell_type": "markdown",
   "id": "bd036125",
   "metadata": {},
   "source": [
    "4. Scala"
   ]
  },
  {
   "cell_type": "markdown",
   "id": "39e09de7",
   "metadata": {},
   "source": [
    "5. SQL"
   ]
  },
  {
   "cell_type": "markdown",
   "id": "364097b6",
   "metadata": {},
   "source": [
    "Some of the commonly used libraries used by Data Scientists include:"
   ]
  },
  {
   "cell_type": "markdown",
   "id": "71802c49",
   "metadata": {},
   "source": [
    "1. Numpy"
   ]
  },
  {
   "cell_type": "markdown",
   "id": "07c5c9cd",
   "metadata": {},
   "source": [
    "2. Matplotlib"
   ]
  },
  {
   "cell_type": "markdown",
   "id": "71f88ed7",
   "metadata": {},
   "source": [
    "3. Pandas"
   ]
  },
  {
   "cell_type": "markdown",
   "id": "edb4f43e",
   "metadata": {},
   "source": [
    "4. Seaborn"
   ]
  },
  {
   "cell_type": "markdown",
   "id": "e4968463",
   "metadata": {},
   "source": [
    "5. Keras"
   ]
  },
  {
   "cell_type": "markdown",
   "id": "d3cf1294",
   "metadata": {},
   "source": [
    " 6. Sickit-Learn"
   ]
  },
  {
   "cell_type": "markdown",
   "id": "13a77c1f",
   "metadata": {},
   "source": [
    "Data Science Tools"
   ]
  },
  {
   "cell_type": "markdown",
   "id": "674a45bc",
   "metadata": {},
   "source": [
    "Jupyter Notebook"
   ]
  },
  {
   "cell_type": "markdown",
   "id": "b67c91e7",
   "metadata": {},
   "source": [
    "Rstudio"
   ]
  },
  {
   "cell_type": "markdown",
   "id": "2d213782",
   "metadata": {},
   "source": [
    "Visual Studio Code"
   ]
  },
  {
   "cell_type": "markdown",
   "id": "0d7255a8",
   "metadata": {},
   "source": [
    "### Below are a few examples of evaluating arithmetic expressions in Python"
   ]
  },
  {
   "cell_type": "code",
   "execution_count": 1,
   "id": "00a0cf14",
   "metadata": {},
   "outputs": [
    {
     "data": {
      "text/plain": [
       "17"
      ]
     },
     "execution_count": 1,
     "metadata": {},
     "output_type": "execute_result"
    }
   ],
   "source": [
    "(3*4)+5 #This a simple arithmetic expression to mutiply then add integers"
   ]
  },
  {
   "cell_type": "code",
   "execution_count": 1,
   "id": "8ddbd3a9",
   "metadata": {
    "scrolled": true
   },
   "outputs": [
    {
     "data": {
      "text/plain": [
       "3.3333333333333335"
      ]
     },
     "execution_count": 1,
     "metadata": {},
     "output_type": "execute_result"
    }
   ],
   "source": [
    "200/60 #This will convert 200 minutes to hours by diving by 60"
   ]
  },
  {
   "cell_type": "markdown",
   "id": "73cd3df5",
   "metadata": {},
   "source": [
    "## Author\n",
    "Phyllian Kipchirchir"
   ]
  },
  {
   "cell_type": "code",
   "execution_count": null,
   "id": "9277bc3b",
   "metadata": {},
   "outputs": [],
   "source": []
  }
 ],
 "metadata": {
  "kernelspec": {
   "display_name": "Python 3 (ipykernel)",
   "language": "python",
   "name": "python3"
  },
  "language_info": {
   "codemirror_mode": {
    "name": "ipython",
    "version": 3
   },
   "file_extension": ".py",
   "mimetype": "text/x-python",
   "name": "python",
   "nbconvert_exporter": "python",
   "pygments_lexer": "ipython3",
   "version": "3.11.5"
  }
 },
 "nbformat": 4,
 "nbformat_minor": 5
}
